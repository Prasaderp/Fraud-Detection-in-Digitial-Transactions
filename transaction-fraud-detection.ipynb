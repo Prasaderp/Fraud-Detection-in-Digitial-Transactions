{
 "cells": [
  {
   "cell_type": "markdown",
   "metadata": {},
   "source": [
    "# Introduction \n",
    ">\n",
    "> 🎯**Objective:** The objective of this notebook is to find the patterns of transactions performed and help algorithms learn those patterns in identifying the fradulent transactions and flag them\n",
    ">\n",
    "> 📌**Goals:**\n",
    ">1. Exploratory analysis of data to extract the pattern of fraudlent activites\n",
    ">2. Build a machine learning model to classify fraud and non-fraud transactions\n",
    ">3. Reduce the false negatives by tuning the model\n",
    "\n",
    "## Libraries"
   ]
  },
  {
   "cell_type": "code",
   "execution_count": null,
   "metadata": {
    "execution": {
     "iopub.execute_input": "2021-08-14T16:44:45.653094Z",
     "iopub.status.busy": "2021-08-14T16:44:45.652684Z",
     "iopub.status.idle": "2021-08-14T16:44:45.670791Z",
     "shell.execute_reply": "2021-08-14T16:44:45.669723Z",
     "shell.execute_reply.started": "2021-08-14T16:44:45.653059Z"
    }
   },
   "outputs": [],
   "source": [
    "#Basic libraries\n",
    "import pandas as pd\n",
    "import numpy as np\n",
    "\n",
    "#Visualization libraries\n",
    "import seaborn as sns\n",
    "import matplotlib.pyplot as plt\n",
    "import plotly.express as px\n",
    "import plotly.graph_objects as go\n",
    "from plotly.offline import plot, iplot, init_notebook_mode\n",
    "init_notebook_mode(connected=True)\n",
    "%matplotlib inline\n",
    "\n",
    "#preprocessing libraries\n",
    "from sklearn.preprocessing import StandardScaler\n",
    "from sklearn.model_selection import train_test_split\n",
    "\n",
    "#ML libraries\n",
    "import tensorflow as tf\n",
    "from sklearn.svm import SVC\n",
    "from sklearn.preprocessing import LabelEncoder\n",
    "from sklearn.preprocessing import StandardScaler\n",
    "from sklearn.ensemble import ExtraTreesClassifier\n",
    "from sklearn.pipeline import make_pipeline\n",
    "from sklearn.model_selection import GridSearchCV\n",
    "from sklearn.linear_model import LogisticRegression\n",
    "from sklearn.tree import DecisionTreeClassifier\n",
    "from sklearn.ensemble import RandomForestClassifier\n",
    "from sklearn.naive_bayes import GaussianNB\n",
    "from sklearn.neighbors import KNeighborsClassifier\n",
    "from sklearn.svm import SVC\n",
    "from sklearn.svm import LinearSVC\n",
    "from sklearn.pipeline import Pipeline\n",
    "\n",
    "#Metrics Libraries\n",
    "from sklearn import metrics\n",
    "from sklearn.metrics import classification_report\n",
    "from sklearn.model_selection import cross_val_score\n",
    "from sklearn.metrics import accuracy_score\n",
    "from sklearn.metrics import confusion_matrix\n",
    "\n",
    "\n",
    "\n",
    "#Misc libraries\n",
    "import warnings\n",
    "warnings.filterwarnings(\"ignore\")"
   ]
  },
  {
   "cell_type": "markdown",
   "metadata": {},
   "source": [
    "# Dataset\n",
    "> Here we just import the first 50000 rows since the dataset is huge and would take a long time to process. Let's see the overview of data"
   ]
  },
  {
   "cell_type": "code",
   "execution_count": null,
   "metadata": {
    "execution": {
     "iopub.execute_input": "2021-08-14T16:44:45.672513Z",
     "iopub.status.busy": "2021-08-14T16:44:45.672202Z",
     "iopub.status.idle": "2021-08-14T16:45:00.215558Z",
     "shell.execute_reply": "2021-08-14T16:45:00.214437Z",
     "shell.execute_reply.started": "2021-08-14T16:44:45.672487Z"
    }
   },
   "outputs": [],
   "source": [
    "#Reading the data\n",
    "paysim=pd.read_csv('fraud_detection_dataset.csv')\n",
    "\n",
    "#Looking at the data\n",
    "paysim.head()"
   ]
  },
  {
   "cell_type": "code",
   "execution_count": null,
   "metadata": {
    "execution": {
     "iopub.execute_input": "2021-08-14T16:45:00.217823Z",
     "iopub.status.busy": "2021-08-14T16:45:00.217525Z",
     "iopub.status.idle": "2021-08-14T16:45:00.230856Z",
     "shell.execute_reply": "2021-08-14T16:45:00.229762Z",
     "shell.execute_reply.started": "2021-08-14T16:45:00.217796Z"
    }
   },
   "outputs": [],
   "source": [
    "paysim.info()"
   ]
  },
  {
   "cell_type": "markdown",
   "metadata": {},
   "source": [
    "### Dataset description\n",
    ">1. step - maps a unit of time in the real world. In this case 1 step is 1 hour of time. Total steps 744 (30 days simulation).\n",
    "2. type - CASH-IN, CASH-OUT, DEBIT, PAYMENT and TRANSFER.\n",
    "3. amount - amount of the transaction in local currency.\n",
    "4. nameOrig - customer who started the transaction\n",
    "5. oldbalanceOrg - initial balance before the transaction\n",
    "6. newbalanceOrig - new balance after the transaction\n",
    "7. nameDest - customer who is the recipient of the transaction\n",
    "8. oldbalanceDest - initial balance recipient before the transaction. Note that there is not information for customers that start with M (Merchants).\n",
    "9. newbalanceDest - new balance recipient after the transaction. Note that there is not information for customers that start with M (Merchants).\n",
    "10. isFraud - This is the transactions made by the fraudulent agents inside the simulation. In this specific dataset the fraudulent behavior of the agents aims to profit by taking control or customers accounts and try to empty the funds by transferring to another account and then cashing out of the system.\n",
    "11. isFlaggedFraud - The business model aims to control massive transfers from one account to another and flags illegal attempts. An illegal attempt in this dataset is an attempt to transfer more than 200.000 in a single transaction."
   ]
  },
  {
   "cell_type": "markdown",
   "metadata": {},
   "source": [
    "# Pivot table analysis\n",
    ">  Numbers is everything in transaction monitoring. Numbers decide whether it is a fraudulent activity or not. Let us look at the overall numbers using pivot function"
   ]
  },
  {
   "cell_type": "code",
   "execution_count": null,
   "metadata": {
    "execution": {
     "iopub.execute_input": "2021-08-14T16:45:00.232701Z",
     "iopub.status.busy": "2021-08-14T16:45:00.232395Z",
     "iopub.status.idle": "2021-08-14T16:45:04.273897Z",
     "shell.execute_reply": "2021-08-14T16:45:04.272897Z",
     "shell.execute_reply.started": "2021-08-14T16:45:00.232663Z"
    }
   },
   "outputs": [],
   "source": [
    "#Pivot table\n",
    "paysim_pivot1=pd.pivot_table(paysim,index=[\"type\"],\n",
    "                               values=['amount','isFraud','isFlaggedFraud'],\n",
    "                               aggfunc=[np.sum,np.std], margins=True)\n",
    "\n",
    "#Adding color gradient \n",
    "cm = sns.light_palette(\"green\", as_cmap=True)\n",
    "paysim_pivot1.style.background_gradient(cmap=cm)"
   ]
  },
  {
   "cell_type": "markdown",
   "metadata": {},
   "source": [
    "<b>Inference:</b> <br>\n",
    "As per the current rule based algorithm, there has been no flags during fraud transactions incase of cash_out , which a serious concern to the anti money laundering system . Also there are only 16 transactions which are flagged as fraud whereas around 4k transactions are actually fraud. Our mission is now to build an efficient algorithm to mitigate this risk of letting fraud transactions unblocked<br>\n",
    "<br>   "
   ]
  },
  {
   "cell_type": "markdown",
   "metadata": {},
   "source": [
    "## Distribution of Amount\n",
    ">  It is important to understand the distribution of our data, since it can play a major role in model building and also in understanding our data. Going forward we will be using only 50k rows as it takes a lot of time to process all the records for viz and model building. \n",
    "> Here we check for the distribution of amount transacted using the application"
   ]
  },
  {
   "cell_type": "code",
   "execution_count": null,
   "metadata": {
    "execution": {
     "iopub.execute_input": "2021-08-14T16:45:07.999113Z",
     "iopub.status.busy": "2021-08-14T16:45:07.998837Z",
     "iopub.status.idle": "2021-08-14T16:45:08.590453Z",
     "shell.execute_reply": "2021-08-14T16:45:08.589505Z",
     "shell.execute_reply.started": "2021-08-14T16:45:07.999085Z"
    }
   },
   "outputs": [],
   "source": [
    "#Reading the first 50000 rows\n",
    "paysim=pd.read_csv('fraud_detection_dataset.csv',nrows=50000)\n",
    "\n",
    "#Distribution of Amount\n",
    "fig = px.box(paysim, y=\"amount\")\n",
    "fig.show()"
   ]
  },
  {
   "cell_type": "markdown",
   "metadata": {},
   "source": [
    "# Feature engineering \n",
    "Time to get our hands dirty with feature engineering. With the available information it is hard to train the model and get better results. Hence we move onto create new features by altering the existing features. In this we create three functions which creates a highly relevant feature for the domain\n",
    "\n",
    "1. **Difference in balance:** It is an universal truth that the amount debited from senders account gets credited into the receivers account without any deviation in cents. But what if there is a deviation incase of the amount debited and credited. Some could be due to the charges levied by the service providers, yet we need to flag such unusual instances\n",
    "2. **Surge indicator:** Also we have to trigger flag when large amount are involved in the transaction. From the distribution of amount we understood that we have a lot of outliers with high amount in transactions. Hence we consider the 75th percentile(450k) as our threshold and amount which is greater than 450k will be triggered as a flag\n",
    "3. **Frequency indicator:** Here we flag the user and not the transaction. When there is a receiver who receives money from a lot of people, it could be a trigger as it can be for some illegal games of chance or luck. Hence it is flagged when there is a receiver who receives money for more than 20 times.\n",
    "4. **Merchant indicator:** The customer ids in receiver starts with 'M' which means that they are merchants and they obviously will have a lot of receiving transactions. So we also flag whenever there is a merchant receiver"
   ]
  },
  {
   "cell_type": "code",
   "execution_count": null,
   "metadata": {
    "execution": {
     "iopub.execute_input": "2021-08-14T16:45:08.592336Z",
     "iopub.status.busy": "2021-08-14T16:45:08.591951Z",
     "iopub.status.idle": "2021-08-14T16:45:08.611073Z",
     "shell.execute_reply": "2021-08-14T16:45:08.609941Z",
     "shell.execute_reply.started": "2021-08-14T16:45:08.592298Z"
    }
   },
   "outputs": [],
   "source": [
    "#Tallying the balance\n",
    "def balance_diff(data):\n",
    "    '''balance_diff checks whether the money debited from sender has exactly credited to the receiver\n",
    "       then it creates a new column which indicates 1 when there is a deviation else 0'''\n",
    "    #Sender's balance\n",
    "    orig_change=data['newbalanceOrig']-data['oldbalanceOrg']\n",
    "    orig_change=orig_change.astype(int)\n",
    "    for i in orig_change:\n",
    "        if i<0:\n",
    "            data['orig_txn_diff']=round(data['amount']+orig_change,2)\n",
    "        else:\n",
    "            data['orig_txn_diff']=round(data['amount']-orig_change,2)\n",
    "    data['orig_txn_diff']=data['orig_txn_diff'].astype(int)\n",
    "    data['orig_diff'] = [1 if n !=0 else 0 for n in data['orig_txn_diff']] \n",
    "    \n",
    "    #Receiver's balance\n",
    "    dest_change=data['newbalanceDest']-data['oldbalanceDest']\n",
    "    dest_change=dest_change.astype(int)\n",
    "    for i in dest_change:\n",
    "        if i<0:\n",
    "            data['dest_txn_diff']=round(data['amount']+dest_change,2)\n",
    "        else:\n",
    "            data['dest_txn_diff']=round(data['amount']-dest_change,2)\n",
    "    data['dest_txn_diff']=data['dest_txn_diff'].astype(int)\n",
    "    data['dest_diff'] = [1 if n !=0 else 0 for n in data['dest_txn_diff']] \n",
    "    \n",
    "    data.drop(['orig_txn_diff','dest_txn_diff'],axis=1,inplace = True)\n",
    "    \n",
    "#Surge indicator\n",
    "def surge_indicator(data):\n",
    "    '''Creates a new column which has 1 if the transaction amount is greater than the threshold\n",
    "    else it will be 0'''\n",
    "    data['surge']=[1 if n>450000 else 0 for n in data['amount']]\n",
    "\n",
    "#Frequency indicator\n",
    "def frequency_receiver(data):\n",
    "    '''Creates a new column which has 1 if the receiver receives money from many individuals\n",
    "    else it will be 0'''\n",
    "    data['freq_Dest']=data['nameDest'].map(data['nameDest'].value_counts())\n",
    "    data['freq_dest']=[1 if n>20 else 0 for n in data['freq_Dest']]\n",
    "    \n",
    "    data.drop(['freq_Dest'],axis=1,inplace = True)\n",
    "\n",
    "#Tracking the receiver as merchant or not\n",
    "def merchant(data):\n",
    "    '''We also have customer ids which starts with M in Receiver name, it indicates merchant\n",
    "    this function will flag if there is a merchant in receiver end '''\n",
    "    values = ['M']\n",
    "    conditions = list(map(data['nameDest'].str.contains, values))\n",
    "    data['merchant'] = np.select(conditions, '1', '0')"
   ]
  },
  {
   "cell_type": "code",
   "execution_count": null,
   "metadata": {
    "execution": {
     "iopub.execute_input": "2021-08-14T16:45:08.614704Z",
     "iopub.status.busy": "2021-08-14T16:45:08.614291Z",
     "iopub.status.idle": "2021-08-14T16:46:43.177378Z",
     "shell.execute_reply": "2021-08-14T16:46:43.176401Z",
     "shell.execute_reply.started": "2021-08-14T16:45:08.614649Z"
    }
   },
   "outputs": [],
   "source": [
    "#Applying balance_diff function\n",
    "balance_diff(paysim)\n",
    "\n",
    "paysim['orig_diff'].value_counts()\n",
    "paysim['dest_diff'].value_counts()"
   ]
  },
  {
   "cell_type": "code",
   "execution_count": null,
   "metadata": {
    "execution": {
     "iopub.execute_input": "2021-08-14T16:46:43.179934Z",
     "iopub.status.busy": "2021-08-14T16:46:43.179502Z",
     "iopub.status.idle": "2021-08-14T16:46:43.224612Z",
     "shell.execute_reply": "2021-08-14T16:46:43.223749Z",
     "shell.execute_reply.started": "2021-08-14T16:46:43.179889Z"
    }
   },
   "outputs": [],
   "source": [
    "#Applying surge_indicator function\n",
    "surge_indicator(paysim)\n",
    "paysim['surge'].value_counts()"
   ]
  },
  {
   "cell_type": "code",
   "execution_count": null,
   "metadata": {
    "execution": {
     "iopub.execute_input": "2021-08-14T16:46:43.226211Z",
     "iopub.status.busy": "2021-08-14T16:46:43.225916Z",
     "iopub.status.idle": "2021-08-14T16:46:43.310851Z",
     "shell.execute_reply": "2021-08-14T16:46:43.309916Z",
     "shell.execute_reply.started": "2021-08-14T16:46:43.226184Z"
    }
   },
   "outputs": [],
   "source": [
    "#Applying frequency_receiver function\n",
    "frequency_receiver(paysim)\n",
    "paysim['freq_dest'].value_counts()"
   ]
  },
  {
   "cell_type": "markdown",
   "metadata": {},
   "source": [
    "# Pre-processing data\n",
    ">  Before moving to build a machine learning model, it is mandatory to pre-process the data so that the model trains without any error and can learn better to provide better results\n",
    "\n",
    "## 1. Balancing the target\n",
    "> From the pie chart below we can clearly see that the target label is heavily imbalance as we have only 0.2% of fraudulent data which is in-sufficient for machine to learn and flag when fraud transactions happen."
   ]
  },
  {
   "cell_type": "code",
   "execution_count": null,
   "metadata": {
    "execution": {
     "iopub.execute_input": "2021-08-14T16:46:43.312636Z",
     "iopub.status.busy": "2021-08-14T16:46:43.312252Z",
     "iopub.status.idle": "2021-08-14T16:46:43.331816Z",
     "shell.execute_reply": "2021-08-14T16:46:43.330853Z",
     "shell.execute_reply.started": "2021-08-14T16:46:43.312595Z"
    }
   },
   "outputs": [],
   "source": [
    "#Creating a copy\n",
    "paysim_1=paysim.copy()\n",
    "\n",
    "#Checking for balance in target\n",
    "fig = go.Figure(data=[go.Pie(labels=['Not Fraud','Fraud'], values=paysim_1['isFraud'].value_counts())])\n",
    "fig.show()"
   ]
  },
  {
   "cell_type": "code",
   "execution_count": null,
   "metadata": {
    "execution": {
     "iopub.execute_input": "2021-08-14T16:46:43.333843Z",
     "iopub.status.busy": "2021-08-14T16:46:43.333413Z",
     "iopub.status.idle": "2021-08-14T16:46:43.371313Z",
     "shell.execute_reply": "2021-08-14T16:46:43.370365Z",
     "shell.execute_reply.started": "2021-08-14T16:46:43.333800Z"
    }
   },
   "outputs": [],
   "source": [
    "#Getting the max size\n",
    "max_size = paysim_1['isFraud'].value_counts().max()\n",
    "\n",
    "#Balancing the target label\n",
    "lst = [paysim_1]\n",
    "for class_index, group in paysim_1.groupby('isFraud'):\n",
    "    lst.append(group.sample(max_size-len(group), replace=True))\n",
    "paysim_1 = pd.concat(lst)"
   ]
  },
  {
   "cell_type": "code",
   "execution_count": null,
   "metadata": {
    "execution": {
     "iopub.execute_input": "2021-08-14T16:46:43.373280Z",
     "iopub.status.busy": "2021-08-14T16:46:43.372874Z",
     "iopub.status.idle": "2021-08-14T16:46:43.391729Z",
     "shell.execute_reply": "2021-08-14T16:46:43.390739Z",
     "shell.execute_reply.started": "2021-08-14T16:46:43.373238Z"
    }
   },
   "outputs": [],
   "source": [
    "#Checking the balanced target\n",
    "fig = go.Figure(data=[go.Pie(labels=['Not Fraud','Fraud'], values=paysim_1['isFraud'].value_counts())])\n",
    "fig.show()"
   ]
  },
  {
   "cell_type": "markdown",
   "metadata": {},
   "source": [
    "## 2. One hot encoding\n",
    "> One of the most important feature we have is type which is categorical in type. Since it doesnt have any ordinal nature and since the classes are less, we prefer applying one hot encoding. "
   ]
  },
  {
   "cell_type": "code",
   "execution_count": null,
   "metadata": {
    "execution": {
     "iopub.execute_input": "2021-08-14T16:46:43.393432Z",
     "iopub.status.busy": "2021-08-14T16:46:43.393014Z",
     "iopub.status.idle": "2021-08-14T16:46:43.461484Z",
     "shell.execute_reply": "2021-08-14T16:46:43.460565Z",
     "shell.execute_reply.started": "2021-08-14T16:46:43.393390Z"
    }
   },
   "outputs": [],
   "source": [
    "#One hot encoding\n",
    "paysim_1=pd.concat([paysim_1,pd.get_dummies(paysim_1['type'], prefix='type_')],axis=1)\n",
    "paysim_1.drop(['type'],axis=1,inplace = True)\n",
    "\n",
    "paysim_1.head()"
   ]
  },
  {
   "cell_type": "markdown",
   "metadata": {},
   "source": [
    "## 3. Split and Standardize\n",
    "> In this module we create the independent and dependent feature, then split them into train and test data where training size is 70%. Later we collect all the numerical features and apply StandardScaler() function which transforms the distribution so that the mean becomes 0 and standard deviation becomes 1 "
   ]
  },
  {
   "cell_type": "code",
   "execution_count": null,
   "metadata": {
    "execution": {
     "iopub.execute_input": "2021-08-14T16:46:43.463380Z",
     "iopub.status.busy": "2021-08-14T16:46:43.462972Z",
     "iopub.status.idle": "2021-08-14T16:46:43.656068Z",
     "shell.execute_reply": "2021-08-14T16:46:43.655158Z",
     "shell.execute_reply.started": "2021-08-14T16:46:43.463348Z"
    }
   },
   "outputs": [],
   "source": [
    "#Splitting dependent and independent variable\n",
    "paysim_2=paysim_1.copy()\n",
    "X=paysim_2.drop('isFraud',axis=1)\n",
    "y=paysim_2['isFraud']\n",
    "\n",
    "# Train-test split\n",
    "X_train, X_test, y_train, y_test = train_test_split(X, y, train_size=0.7, random_state=111)\n",
    "\n",
    "#Standardizing the numerical columns\n",
    "col_names=['amount','oldbalanceOrg','newbalanceOrig','oldbalanceDest','newbalanceDest']\n",
    "features_train = X_train[col_names]\n",
    "features_test = X_test[col_names]\n",
    "scaler = StandardScaler().fit(features_train.values)\n",
    "features_train = scaler.transform(features_train.values)\n",
    "features_test = scaler.transform(features_test.values)\n",
    "X_train[col_names] = features_train\n",
    "X_test[col_names] =features_test"
   ]
  },
  {
   "cell_type": "markdown",
   "metadata": {},
   "source": [
    "## 3. Tokenization\n",
    "> We had the customer ids and merchant ids stored in object type. It is bad to apply one hot encoding in it as it can lead to more features and curse of dimensionality can incur. Hence we are applying tokenization here as it can create an unique id number which is in 'int' type for each customer id"
   ]
  },
  {
   "cell_type": "code",
   "execution_count": null,
   "metadata": {
    "execution": {
     "iopub.execute_input": "2021-08-14T16:46:43.657606Z",
     "iopub.status.busy": "2021-08-14T16:46:43.657310Z",
     "iopub.status.idle": "2021-08-14T16:46:47.789471Z",
     "shell.execute_reply": "2021-08-14T16:46:47.788409Z",
     "shell.execute_reply.started": "2021-08-14T16:46:43.657580Z"
    }
   },
   "outputs": [],
   "source": [
    "#Tokenzation of customer name to get a unique id\n",
    "tokenizer_org = tf.keras.preprocessing.text.Tokenizer()\n",
    "tokenizer_org.fit_on_texts(X_train['nameOrig'])\n",
    "\n",
    "tokenizer_dest = tf.keras.preprocessing.text.Tokenizer()\n",
    "tokenizer_dest.fit_on_texts(X_train['nameDest'])\n",
    "\n",
    "# Create tokenized customer lists\n",
    "customers_train_org = tokenizer_org.texts_to_sequences(X_train['nameOrig'])\n",
    "customers_test_org = tokenizer_org.texts_to_sequences(X_test['nameOrig'])\n",
    "\n",
    "customers_train_dest = tokenizer_dest.texts_to_sequences(X_train['nameDest'])\n",
    "customers_test_dest = tokenizer_dest.texts_to_sequences(X_test['nameDest'])\n",
    "\n",
    "\n",
    "# Pad sequences\n",
    "X_train['customers_org'] = tf.keras.preprocessing.sequence.pad_sequences(customers_train_org, maxlen=1)\n",
    "X_test['customers_org'] = tf.keras.preprocessing.sequence.pad_sequences(customers_test_org, maxlen=1)\n",
    "\n",
    "X_train['customers_dest'] = tf.keras.preprocessing.sequence.pad_sequences(customers_train_dest, maxlen=1)\n",
    "X_test['customers_dest'] = tf.keras.preprocessing.sequence.pad_sequences(customers_test_dest, maxlen=1)"
   ]
  },
  {
   "cell_type": "markdown",
   "metadata": {},
   "source": [
    "### Dropping unnecessary columns\n",
    "> We dont need the sender and receiver id as we have tokenized them, also we dont required isFlaggedFraud as it is just an outcome of current algorithm. "
   ]
  },
  {
   "cell_type": "code",
   "execution_count": null,
   "metadata": {
    "execution": {
     "iopub.execute_input": "2021-08-14T16:46:47.790982Z",
     "iopub.status.busy": "2021-08-14T16:46:47.790711Z",
     "iopub.status.idle": "2021-08-14T16:46:47.807516Z",
     "shell.execute_reply": "2021-08-14T16:46:47.806592Z",
     "shell.execute_reply.started": "2021-08-14T16:46:47.790955Z"
    }
   },
   "outputs": [],
   "source": [
    "#Dropping unnecessary columns\n",
    "X_train=X_train.drop(['nameOrig','nameDest','isFlaggedFraud'],axis=1)\n",
    "X_train = X_train.reset_index(drop=True)\n",
    "\n",
    "X_test=X_test.drop(['nameOrig','nameDest','isFlaggedFraud'],axis=1)\n",
    "X_test = X_test.reset_index(drop=True)"
   ]
  },
  {
   "cell_type": "markdown",
   "metadata": {},
   "source": [
    "# Model Building\n",
    "> We have successfully processed the data and it is time for serving the data to the model. It is time consuming to find out which model works best for our data. Hence I have utlized pipeline to run our data through all the classification algorithm and select the best which gives out the maximum accuracy."
   ]
  },
  {
   "cell_type": "code",
   "execution_count": null,
   "metadata": {
    "execution": {
     "iopub.execute_input": "2021-08-14T16:46:47.809083Z",
     "iopub.status.busy": "2021-08-14T16:46:47.808790Z",
     "iopub.status.idle": "2021-08-14T16:47:25.965375Z",
     "shell.execute_reply": "2021-08-14T16:47:25.964589Z",
     "shell.execute_reply.started": "2021-08-14T16:46:47.809036Z"
    }
   },
   "outputs": [],
   "source": [
    "#creating the objects\n",
    "logreg_cv = LogisticRegression(solver='liblinear',random_state=123)\n",
    "dt_cv=DecisionTreeClassifier(random_state=123)\n",
    "knn_cv=KNeighborsClassifier()\n",
    "svc_cv=SVC(kernel='linear',random_state=123)\n",
    "nb_cv=GaussianNB()\n",
    "rf_cv=RandomForestClassifier(random_state=123)\n",
    "cv_dict = {0: 'Logistic Regression', 1: 'Decision Tree',2:'KNN',3:'SVC',4:'Naive Bayes',5:'Random Forest'}\n",
    "cv_models=[logreg_cv,dt_cv,knn_cv,svc_cv,nb_cv,rf_cv]\n",
    "\n",
    "\n",
    "for i,model in enumerate(cv_models):\n",
    "    print(\"{} Test Accuracy: {}\".format(cv_dict[i],cross_val_score(model, X_train, y_train, cv=10, scoring ='accuracy').mean()))"
   ]
  },
  {
   "cell_type": "markdown",
   "metadata": {},
   "source": [
    "\n",
    "<b>Thoughts:</b> <br>\n",
    "We can see who won the prize-it is Naive Bayes. Other algorithms have also performed in par with NB especially Random Forest and KNN. It sure looks overfitted as the accuracy is near 100% which can be verified using the test data. Before that lets do hyperparameter tuning on NB<br>\n",
    "<br>   \n",
    "</div>"
   ]
  },
  {
   "cell_type": "markdown",
   "metadata": {},
   "source": [
    "## Hyperparameter Tuning\n",
    "> Lets fit the Naive bayes model by tuning the model with its parameters. Here we are gonna tune var_smoothing which is a stability calculation to widen (or smooth) the curve and therefore account for more samples that are further away from the distribution mean. In this case, np.logspace returns numbers spaced evenly on a log scale, starts from 0, ends at -9, and generates 100 samples."
   ]
  },
  {
   "cell_type": "code",
   "execution_count": null,
   "metadata": {
    "execution": {
     "iopub.execute_input": "2021-08-14T16:47:25.966861Z",
     "iopub.status.busy": "2021-08-14T16:47:25.966447Z",
     "iopub.status.idle": "2021-08-14T16:47:46.215476Z",
     "shell.execute_reply": "2021-08-14T16:47:46.214789Z",
     "shell.execute_reply.started": "2021-08-14T16:47:25.966833Z"
    }
   },
   "outputs": [],
   "source": [
    "param_grid_nb = {\n",
    "    'var_smoothing': np.logspace(0,-9, num=100)\n",
    "}\n",
    "\n",
    "nbModel_grid = GridSearchCV(estimator=GaussianNB(), param_grid=param_grid_nb, verbose=1, cv=10, n_jobs=-1)\n",
    "nbModel_grid.fit(X_train, y_train)\n",
    "print(nbModel_grid.best_estimator_)"
   ]
  },
  {
   "cell_type": "markdown",
   "metadata": {},
   "source": [
    "# Evaluation of model\n",
    "> Time to explore the truth of high numbers by evaluating against testing data"
   ]
  },
  {
   "cell_type": "code",
   "execution_count": null,
   "metadata": {
    "_kg_hide-input": true,
    "execution": {
     "iopub.execute_input": "2021-08-14T16:47:46.216916Z",
     "iopub.status.busy": "2021-08-14T16:47:46.216505Z",
     "iopub.status.idle": "2021-08-14T16:47:46.225029Z",
     "shell.execute_reply": "2021-08-14T16:47:46.224369Z",
     "shell.execute_reply.started": "2021-08-14T16:47:46.216887Z"
    }
   },
   "outputs": [],
   "source": [
    "#Function for Confusion matrix\n",
    "def plot_confusion_matrix(cm, classes,\n",
    "                          normalize=False,\n",
    "                          title='Confusion matrix',\n",
    "                          cmap=plt.cm.Blues):\n",
    "    \"\"\"\n",
    "    This function prints and plots the confusion matrix.\n",
    "    Normalization can be applied by setting `normalize=True`.\n",
    "    \"\"\"\n",
    "    \n",
    "    plt.imshow(cm, interpolation='nearest', cmap=cmap)\n",
    "    plt.title(title)\n",
    "    plt.colorbar()\n",
    "    tick_marks = np.arange(len(classes))\n",
    "    plt.xticks(tick_marks, classes, rotation=45)\n",
    "    plt.yticks(tick_marks, classes)\n",
    "\n",
    "    if normalize:\n",
    "        cm = cm.astype('float') / cm.sum(axis=1)[:, np.newaxis]\n",
    "        print(\"Normalized confusion matrix\")\n",
    "    else:\n",
    "        print('Confusion matrix, without normalization')\n",
    "\n",
    "    thresh = cm.max() / 2.\n",
    "    for i in range (cm.shape[0]):\n",
    "        for j in range (cm.shape[1]):\n",
    "            plt.text(j, i, cm[i, j],\n",
    "                 horizontalalignment=\"center\",\n",
    "                 color=\"white\" if cm[i, j] > thresh else \"black\")\n",
    "\n",
    "    plt.tight_layout()\n",
    "    plt.ylabel('True label')\n",
    "    plt.xlabel('Predicted label')"
   ]
  },
  {
   "cell_type": "code",
   "execution_count": null,
   "metadata": {
    "execution": {
     "iopub.execute_input": "2021-08-14T16:47:46.226362Z",
     "iopub.status.busy": "2021-08-14T16:47:46.225979Z",
     "iopub.status.idle": "2021-08-14T16:47:46.516983Z",
     "shell.execute_reply": "2021-08-14T16:47:46.516217Z",
     "shell.execute_reply.started": "2021-08-14T16:47:46.226335Z"
    }
   },
   "outputs": [],
   "source": [
    "#Predict with the selected best parameter\n",
    "y_pred=nbModel_grid.predict(X_test)\n",
    "\n",
    "#Plotting confusion matrix\n",
    "cm = metrics.confusion_matrix(y_test, y_pred)\n",
    "plot_confusion_matrix(cm, classes=['Not Fraud','Fraud'])"
   ]
  },
  {
   "cell_type": "markdown",
   "metadata": {},
   "source": [
    "\n",
    "<b>Insights:</b> <br>\n",
    "The model has identified false positives but never let even a single false negative which is more important than FP. Since we cant miss out a fraud transactions, but we can manage false positive results by investigating them  <br>\n",
    "<br>   \n",
    "</div>"
   ]
  },
  {
   "cell_type": "code",
   "execution_count": null,
   "metadata": {
    "execution": {
     "iopub.execute_input": "2021-08-14T16:47:46.518412Z",
     "iopub.status.busy": "2021-08-14T16:47:46.518006Z",
     "iopub.status.idle": "2021-08-14T16:47:46.581856Z",
     "shell.execute_reply": "2021-08-14T16:47:46.580860Z",
     "shell.execute_reply.started": "2021-08-14T16:47:46.518383Z"
    }
   },
   "outputs": [],
   "source": [
    "#Classification metrics\n",
    "print(classification_report(y_test, y_pred, target_names=['Not Fraud','Fraud']))"
   ]
  },
  {
   "cell_type": "markdown",
   "metadata": {},
   "source": [
    "\n",
    "<b>Insights:</b> <br>\n",
    "When we found that our false negatives are more important than false positives, we have to look at the recall number and we have 100% recall in finding the fraud transactions and 100% precision in finding the non fraud tranactions and on an average our model performs more than 70% accurate which is pretty good and there are possible chance to improve the performance of this model.  <br>\n",
    "<br>   \n",
    "</div>"
   ]
  },
  {
   "cell_type": "markdown",
   "metadata": {},
   "source": [
    "# Conclusion\n",
    "\n",
    "> With the advent of digital transactions, the possibility of money laundering have also soared up with the use of tech. Millions of investigators are on the field fighting against the fraudulent transactions. In the current industry we have a large inflow of false positives hits and it consumes a long time to clear the false positive hits. Customers across the world using fintech platforms demand lightning fast services. Hence automating the hits with machine learning and reducing the false positive hits is our aim. But not at the cost of leaving out the false negatives. Hence we need to be more mindful about false negatives when we try to reduce the false positives."
   ]
  },
  {
   "cell_type": "code",
   "execution_count": null,
   "metadata": {},
   "outputs": [],
   "source": []
  }
 ],
 "metadata": {
  "kernelspec": {
   "display_name": "Python 3 (ipykernel)",
   "language": "python",
   "name": "python3"
  },
  "language_info": {
   "codemirror_mode": {
    "name": "ipython",
    "version": 3
   },
   "file_extension": ".py",
   "mimetype": "text/x-python",
   "name": "python",
   "nbconvert_exporter": "python",
   "pygments_lexer": "ipython3",
   "version": "3.11.5"
  }
 },
 "nbformat": 4,
 "nbformat_minor": 4
}
